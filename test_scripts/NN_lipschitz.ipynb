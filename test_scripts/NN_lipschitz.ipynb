{
 "cells": [
  {
   "cell_type": "code",
   "execution_count": 1,
   "metadata": {},
   "outputs": [
    {
     "name": "stderr",
     "output_type": "stream",
     "text": [
      "/home/kerrick/miniconda3/envs/spinningup/lib/python3.7/site-packages/tqdm/auto.py:22: TqdmWarning: IProgress not found. Please update jupyter and ipywidgets. See https://ipywidgets.readthedocs.io/en/stable/user_install.html\n",
      "  from .autonotebook import tqdm as notebook_tqdm\n"
     ]
    }
   ],
   "source": [
    "from nht.models.NHT import NHT\n",
    "from nht.utils import load_interface\n",
    "import torch"
   ]
  },
  {
   "cell_type": "markdown",
   "metadata": {},
   "source": [
    "# Check L continuity of NN"
   ]
  },
  {
   "cell_type": "code",
   "execution_count": 2,
   "metadata": {},
   "outputs": [],
   "source": [
    "# utils\n",
    "\n",
    "def sample_uniform_vec(low, high, shape):\n",
    "    return torch.rand(shape[0],shape[1])*(high-low)+low\n",
    "\n",
    "def sample_vec_batch(batch, MLP_out_dim, scale):\n",
    "    return sample_uniform_vec(-scale,scale,[batch,MLP_out_dim])"
   ]
  },
  {
   "cell_type": "code",
   "execution_count": 3,
   "metadata": {},
   "outputs": [],
   "source": [
    "def empirical_Lipschitz_test(n_samples, input_shape, input_scale, func, output_mat=True):\n",
    "\n",
    "    input_diff_norms = []\n",
    "    output_diff_norms = []\n",
    "\n",
    "    for _ in range(n_samples):\n",
    "        # sample vecs\n",
    "        vec1 = sample_vec_batch(input_shape[0], input_shape[1], input_scale)\n",
    "        vec2 = sample_vec_batch(input_shape[0], input_shape[1], input_scale)\n",
    "\n",
    "        # get norm of difference\n",
    "        input_diff_norm = torch.linalg.norm(vec2-vec1, dim=-1, ord=2)\n",
    "\n",
    "        # pass through func\n",
    "        with torch.no_grad():\n",
    "            out1 = func(vec1)\n",
    "            out2 = func(vec2)\n",
    "\n",
    "        if output_mat:\n",
    "            output_diff_norm = torch.linalg.norm(out2-out1, dim=(-2,-1), ord=2)\n",
    "        else:\n",
    "            output_diff_norm = torch.linalg.norm(out2-out1, dim=-1, ord=2)\n",
    "\n",
    "        # store data\n",
    "        input_diff_norms.append(input_diff_norm)\n",
    "        output_diff_norms.append(output_diff_norm)\n",
    "\n",
    "    return input_diff_norms, output_diff_norms"
   ]
  },
  {
   "cell_type": "code",
   "execution_count": 4,
   "metadata": {},
   "outputs": [
    {
     "name": "stdout",
     "output_type": "stream",
     "text": [
      "/home/kerrick/uAlberta/projects/NHT/.results/test/NHT/20_multihead/version_0/checkpoints/\n",
      "['/home/kerrick/uAlberta/projects/NHT/.results/test/NHT/20_multihead/version_0/checkpoints/model-epoch=08-val_loss=0.046067.ckpt', '/home/kerrick/uAlberta/projects/NHT/.results/test/NHT/20_multihead/version_0/checkpoints/model-epoch=07-val_loss=0.046665.ckpt', '/home/kerrick/uAlberta/projects/NHT/.results/test/NHT/20_multihead/version_0/checkpoints/model-epoch=09-val_loss=0.046340.ckpt']\n",
      "NHT\n",
      "multihead: True\n",
      "multihead: False\n"
     ]
    },
    {
     "ename": "RuntimeError",
     "evalue": "Error(s) in loading state_dict for NHT:\n\tMissing key(s) in state_dict: \"h.net.6.weight\", \"h.net.6.bias\". \n\tUnexpected key(s) in state_dict: \"h.heads.0.weight\", \"h.heads.0.bias\", \"h.heads.1.weight\", \"h.heads.1.bias\". ",
     "output_type": "error",
     "traceback": [
      "\u001b[0;31m---------------------------------------------------------------------------\u001b[0m",
      "\u001b[0;31mRuntimeError\u001b[0m                              Traceback (most recent call last)",
      "\u001b[0;32m/tmp/ipykernel_26358/3398419516.py\u001b[0m in \u001b[0;36m<module>\u001b[0;34m\u001b[0m\n\u001b[1;32m      1\u001b[0m \u001b[0mmodel_path\u001b[0m \u001b[0;34m=\u001b[0m \u001b[0;34m'/home/kerrick/uAlberta/projects/NHT/.results/test/NHT/20_multihead/version_0'\u001b[0m\u001b[0;34m\u001b[0m\u001b[0;34m\u001b[0m\u001b[0m\n\u001b[1;32m      2\u001b[0m \u001b[0mmodel_type\u001b[0m \u001b[0;34m=\u001b[0m \u001b[0;34m'NHT'\u001b[0m\u001b[0;34m\u001b[0m\u001b[0;34m\u001b[0m\u001b[0m\n\u001b[0;32m----> 3\u001b[0;31m \u001b[0mQ\u001b[0m \u001b[0;34m=\u001b[0m \u001b[0mload_interface\u001b[0m\u001b[0;34m(\u001b[0m\u001b[0mmodel_type\u001b[0m\u001b[0;34m,\u001b[0m \u001b[0mmodel_path\u001b[0m\u001b[0;34m)\u001b[0m\u001b[0;34m\u001b[0m\u001b[0;34m\u001b[0m\u001b[0m\n\u001b[0m",
      "\u001b[0;32m~/uAlberta/projects/NHT/nht/utils.py\u001b[0m in \u001b[0;36mload_interface\u001b[0;34m(model_type, model_path)\u001b[0m\n\u001b[1;32m    148\u001b[0m         \u001b[0mhparams\u001b[0m \u001b[0;34m=\u001b[0m \u001b[0myaml\u001b[0m\u001b[0;34m.\u001b[0m\u001b[0msafe_load\u001b[0m\u001b[0;34m(\u001b[0m\u001b[0mf\u001b[0m\u001b[0;34m)\u001b[0m\u001b[0;34m\u001b[0m\u001b[0;34m\u001b[0m\u001b[0m\n\u001b[1;32m    149\u001b[0m \u001b[0;34m\u001b[0m\u001b[0m\n\u001b[0;32m--> 150\u001b[0;31m     \u001b[0mmodel\u001b[0m \u001b[0;34m=\u001b[0m \u001b[0mload_model\u001b[0m\u001b[0;34m(\u001b[0m\u001b[0mmodel_type\u001b[0m\u001b[0;34m,\u001b[0m \u001b[0mhparams\u001b[0m\u001b[0;34m)\u001b[0m\u001b[0;34m.\u001b[0m\u001b[0mload_from_checkpoint\u001b[0m\u001b[0;34m(\u001b[0m\u001b[0mcheckpoint_path\u001b[0m\u001b[0;34m=\u001b[0m\u001b[0mbest\u001b[0m\u001b[0;34m)\u001b[0m\u001b[0;34m\u001b[0m\u001b[0;34m\u001b[0m\u001b[0m\n\u001b[0m\u001b[1;32m    151\u001b[0m \u001b[0;34m\u001b[0m\u001b[0m\n\u001b[1;32m    152\u001b[0m     \u001b[0mprint\u001b[0m\u001b[0;34m(\u001b[0m\u001b[0mmodel\u001b[0m\u001b[0;34m)\u001b[0m\u001b[0;34m\u001b[0m\u001b[0;34m\u001b[0m\u001b[0m\n",
      "\u001b[0;32m~/miniconda3/envs/spinningup/lib/python3.7/site-packages/pytorch_lightning/core/saving.py\u001b[0m in \u001b[0;36mload_from_checkpoint\u001b[0;34m(cls, checkpoint_path, map_location, hparams_file, strict, **kwargs)\u001b[0m\n\u001b[1;32m    141\u001b[0m             \u001b[0mhparams_file\u001b[0m\u001b[0;34m,\u001b[0m\u001b[0;34m\u001b[0m\u001b[0;34m\u001b[0m\u001b[0m\n\u001b[1;32m    142\u001b[0m             \u001b[0mstrict\u001b[0m\u001b[0;34m,\u001b[0m\u001b[0;34m\u001b[0m\u001b[0;34m\u001b[0m\u001b[0m\n\u001b[0;32m--> 143\u001b[0;31m             \u001b[0;34m**\u001b[0m\u001b[0mkwargs\u001b[0m\u001b[0;34m,\u001b[0m\u001b[0;34m\u001b[0m\u001b[0;34m\u001b[0m\u001b[0m\n\u001b[0m\u001b[1;32m    144\u001b[0m         )\n\u001b[1;32m    145\u001b[0m \u001b[0;34m\u001b[0m\u001b[0m\n",
      "\u001b[0;32m~/miniconda3/envs/spinningup/lib/python3.7/site-packages/pytorch_lightning/core/saving.py\u001b[0m in \u001b[0;36m_load_from_checkpoint\u001b[0;34m(cls, checkpoint_path, map_location, hparams_file, strict, **kwargs)\u001b[0m\n\u001b[1;32m    203\u001b[0m     \u001b[0;32mif\u001b[0m \u001b[0missubclass\u001b[0m\u001b[0;34m(\u001b[0m\u001b[0mcls\u001b[0m\u001b[0;34m,\u001b[0m \u001b[0mpl\u001b[0m\u001b[0;34m.\u001b[0m\u001b[0mLightningDataModule\u001b[0m\u001b[0;34m)\u001b[0m\u001b[0;34m:\u001b[0m\u001b[0;34m\u001b[0m\u001b[0;34m\u001b[0m\u001b[0m\n\u001b[1;32m    204\u001b[0m         \u001b[0;32mreturn\u001b[0m \u001b[0m_load_state\u001b[0m\u001b[0;34m(\u001b[0m\u001b[0mcls\u001b[0m\u001b[0;34m,\u001b[0m \u001b[0mcheckpoint\u001b[0m\u001b[0;34m,\u001b[0m \u001b[0;34m**\u001b[0m\u001b[0mkwargs\u001b[0m\u001b[0;34m)\u001b[0m\u001b[0;34m\u001b[0m\u001b[0;34m\u001b[0m\u001b[0m\n\u001b[0;32m--> 205\u001b[0;31m     \u001b[0;32mreturn\u001b[0m \u001b[0m_load_state\u001b[0m\u001b[0;34m(\u001b[0m\u001b[0mcls\u001b[0m\u001b[0;34m,\u001b[0m \u001b[0mcheckpoint\u001b[0m\u001b[0;34m,\u001b[0m \u001b[0mstrict\u001b[0m\u001b[0;34m=\u001b[0m\u001b[0mstrict\u001b[0m\u001b[0;34m,\u001b[0m \u001b[0;34m**\u001b[0m\u001b[0mkwargs\u001b[0m\u001b[0;34m)\u001b[0m\u001b[0;34m\u001b[0m\u001b[0;34m\u001b[0m\u001b[0m\n\u001b[0m\u001b[1;32m    206\u001b[0m \u001b[0;34m\u001b[0m\u001b[0m\n\u001b[1;32m    207\u001b[0m \u001b[0;34m\u001b[0m\u001b[0m\n",
      "\u001b[0;32m~/miniconda3/envs/spinningup/lib/python3.7/site-packages/pytorch_lightning/core/saving.py\u001b[0m in \u001b[0;36m_load_state\u001b[0;34m(cls, checkpoint, strict, **cls_kwargs_new)\u001b[0m\n\u001b[1;32m    257\u001b[0m \u001b[0;34m\u001b[0m\u001b[0m\n\u001b[1;32m    258\u001b[0m     \u001b[0;31m# load the state_dict on the model automatically\u001b[0m\u001b[0;34m\u001b[0m\u001b[0;34m\u001b[0m\u001b[0;34m\u001b[0m\u001b[0m\n\u001b[0;32m--> 259\u001b[0;31m     \u001b[0mkeys\u001b[0m \u001b[0;34m=\u001b[0m \u001b[0mobj\u001b[0m\u001b[0;34m.\u001b[0m\u001b[0mload_state_dict\u001b[0m\u001b[0;34m(\u001b[0m\u001b[0mcheckpoint\u001b[0m\u001b[0;34m[\u001b[0m\u001b[0;34m\"state_dict\"\u001b[0m\u001b[0;34m]\u001b[0m\u001b[0;34m,\u001b[0m \u001b[0mstrict\u001b[0m\u001b[0;34m=\u001b[0m\u001b[0mstrict\u001b[0m\u001b[0;34m)\u001b[0m\u001b[0;34m\u001b[0m\u001b[0;34m\u001b[0m\u001b[0m\n\u001b[0m\u001b[1;32m    260\u001b[0m \u001b[0;34m\u001b[0m\u001b[0m\n\u001b[1;32m    261\u001b[0m     \u001b[0;32mif\u001b[0m \u001b[0;32mnot\u001b[0m \u001b[0mstrict\u001b[0m\u001b[0;34m:\u001b[0m\u001b[0;34m\u001b[0m\u001b[0;34m\u001b[0m\u001b[0m\n",
      "\u001b[0;32m~/miniconda3/envs/spinningup/lib/python3.7/site-packages/torch/nn/modules/module.py\u001b[0m in \u001b[0;36mload_state_dict\u001b[0;34m(self, state_dict, strict)\u001b[0m\n\u001b[1;32m   1603\u001b[0m         \u001b[0;32mif\u001b[0m \u001b[0mlen\u001b[0m\u001b[0;34m(\u001b[0m\u001b[0merror_msgs\u001b[0m\u001b[0;34m)\u001b[0m \u001b[0;34m>\u001b[0m \u001b[0;36m0\u001b[0m\u001b[0;34m:\u001b[0m\u001b[0;34m\u001b[0m\u001b[0;34m\u001b[0m\u001b[0m\n\u001b[1;32m   1604\u001b[0m             raise RuntimeError('Error(s) in loading state_dict for {}:\\n\\t{}'.format(\n\u001b[0;32m-> 1605\u001b[0;31m                                self.__class__.__name__, \"\\n\\t\".join(error_msgs)))\n\u001b[0m\u001b[1;32m   1606\u001b[0m         \u001b[0;32mreturn\u001b[0m \u001b[0m_IncompatibleKeys\u001b[0m\u001b[0;34m(\u001b[0m\u001b[0mmissing_keys\u001b[0m\u001b[0;34m,\u001b[0m \u001b[0munexpected_keys\u001b[0m\u001b[0;34m)\u001b[0m\u001b[0;34m\u001b[0m\u001b[0;34m\u001b[0m\u001b[0m\n\u001b[1;32m   1607\u001b[0m \u001b[0;34m\u001b[0m\u001b[0m\n",
      "\u001b[0;31mRuntimeError\u001b[0m: Error(s) in loading state_dict for NHT:\n\tMissing key(s) in state_dict: \"h.net.6.weight\", \"h.net.6.bias\". \n\tUnexpected key(s) in state_dict: \"h.heads.0.weight\", \"h.heads.0.bias\", \"h.heads.1.weight\", \"h.heads.1.bias\". "
     ]
    }
   ],
   "source": [
    "model_path = '/home/kerrick/uAlberta/projects/NHT/.results/test/NHT/20_multihead/version_0'\n",
    "model_type = 'NHT'\n",
    "Q = load_interface(model_type, model_path)"
   ]
  },
  {
   "cell_type": "code",
   "execution_count": null,
   "metadata": {},
   "outputs": [],
   "source": [
    "for name, param in Q.h.named_parameters():\n",
    "    if 'weight' in name:\n",
    "        print(name)\n",
    "        with torch.no_grad():\n",
    "            print(torch.norm(param.data, p=2))"
   ]
  },
  {
   "cell_type": "code",
   "execution_count": null,
   "metadata": {},
   "outputs": [],
   "source": [
    "import numpy as np\n",
    "(0.7071**3)*2*np.sqrt(2)"
   ]
  },
  {
   "cell_type": "code",
   "execution_count": null,
   "metadata": {},
   "outputs": [],
   "source": [
    "import matplotlib.pyplot as plt\n",
    "import numpy as np\n",
    "\n",
    "\n",
    "L_NHT = 1\n",
    "n_samples = 4000\n",
    "\n",
    "BATCH_SIZE = 1\n",
    "k = 2\n",
    "n = 6\n",
    "c_dim=17 \n",
    "\n",
    "input_shape = [BATCH_SIZE, c_dim]\n",
    "\n",
    "input_scale = 0.1\n",
    "\n",
    "input_diff_norms, output_diff_norms = empirical_Lipschitz_test(n_samples, input_shape, input_scale, Q)   \n",
    "\n",
    "print(input_diff_norms[0])\n",
    "print(output_diff_norms[0])\n",
    "\n",
    "plt.scatter(input_diff_norms, output_diff_norms, s=5)\n",
    "plt.xlabel('delta')\n",
    "plt.ylabel('change in NHT out')\n",
    "\n",
    "x = np.linspace(0,input_scale*5,500)\n",
    "y = L_NHT*x\n",
    "\n",
    "plt.plot(x,y, color='r')\n",
    "#plt.ylim([0,2])\n",
    "plt.show()"
   ]
  },
  {
   "cell_type": "code",
   "execution_count": null,
   "metadata": {},
   "outputs": [],
   "source": [
    "from nht.models.MLP import ExpMap_sphere\n"
   ]
  },
  {
   "cell_type": "code",
   "execution_count": null,
   "metadata": {},
   "outputs": [],
   "source": [
    "vec1 = sample_vec_batch(input_shape[0], input_shape[1], input_scale)\n",
    "vec2 = sample_vec_batch(input_shape[0], input_shape[1], input_scale)\n",
    "\n",
    "# get norm of difference\n",
    "input_diff_norm = torch.linalg.norm(vec2-vec1, dim=-1, ord=2)\n",
    "\n",
    "# pass through func\n",
    "with torch.no_grad():\n",
    "    out1 = Q(vec1)\n",
    "    out2 = Q(vec2)\n",
    "\n"
   ]
  },
  {
   "cell_type": "code",
   "execution_count": null,
   "metadata": {},
   "outputs": [],
   "source": [
    "print(out1)\n",
    "print(out1.shape)\n",
    "print(torch.linalg.norm(out1, dim=(-2,-1), ord=2))"
   ]
  },
  {
   "cell_type": "code",
   "execution_count": null,
   "metadata": {},
   "outputs": [],
   "source": [
    "print(out2)\n",
    "print(out2.shape)\n",
    "print(torch.linalg.norm(out2, dim=(-2,-1), ord=2))"
   ]
  },
  {
   "cell_type": "code",
   "execution_count": null,
   "metadata": {},
   "outputs": [],
   "source": [
    "diff_Q = out1-out2\n",
    "print(diff_Q)\n",
    "print(torch.linalg.norm(diff_Q, dim=(-2,-1), ord=2))\n",
    "print(torch.linalg.norm(diff_Q[0,:,:], ord=2))"
   ]
  },
  {
   "cell_type": "code",
   "execution_count": null,
   "metadata": {},
   "outputs": [],
   "source": [
    "for name, param in Q.h.named_parameters():\n",
    "    if 'weight' in name:\n",
    "        with torch.no_grad():\n",
    "            print(torch.norm(param.data, p=2))"
   ]
  },
  {
   "cell_type": "code",
   "execution_count": null,
   "metadata": {},
   "outputs": [],
   "source": [
    "print((1.3712**4)*2*np.sqrt(2))"
   ]
  },
  {
   "cell_type": "code",
   "execution_count": null,
   "metadata": {},
   "outputs": [],
   "source": [
    "input_shape = [BATCH_SIZE, c_dim]\n",
    "vec1 = sample_vec_batch(input_shape[0], input_shape[1], 1.0)\n",
    "print(vec1.shape)\n",
    "print(torch.linalg.norm(vec1, dim=-1, ord=2))"
   ]
  },
  {
   "cell_type": "code",
   "execution_count": null,
   "metadata": {},
   "outputs": [],
   "source": [
    "from nht.utils import get_model\n",
    "\n",
    "k = 2\n",
    "n = 6\n",
    "c_dim=17 \n",
    "\n",
    "new_NHT = get_model(None, u_dim=n, a_dim=k, c_dim=c_dim, hiddens=[64,64], activation='relu', lr=0.001, model='NHT')"
   ]
  },
  {
   "cell_type": "code",
   "execution_count": null,
   "metadata": {},
   "outputs": [],
   "source": [
    "for name, param in new_NHT.h.named_parameters():\n",
    "    if 'weight' in name:\n",
    "        with torch.no_grad():\n",
    "            print(torch.norm(param.data, p=2))"
   ]
  },
  {
   "cell_type": "code",
   "execution_count": null,
   "metadata": {},
   "outputs": [],
   "source": [
    "import numpy as np\n",
    "\n",
    "L_NHT = 1\n",
    "n_layers = len([64,64])+1\n",
    "L_NN = L_NHT/(2*np.sqrt(k)) # Correct for Lipschitz constant of householder transform\n",
    "L_layer = np.power(L_NN, 1/n_layers)\n",
    "print(L_layer)\n"
   ]
  },
  {
   "cell_type": "code",
   "execution_count": null,
   "metadata": {},
   "outputs": [],
   "source": [
    "for name, param in new_NHT.h.named_parameters():\n",
    "    if 'weight' in name:\n",
    "        with torch.no_grad():\n",
    "            rescale_factor = torch.norm(param.data, p=2) / L_layer\n",
    "            param.data = param.data /  max(1, rescale_factor)"
   ]
  },
  {
   "cell_type": "code",
   "execution_count": null,
   "metadata": {},
   "outputs": [],
   "source": [
    "for name, param in new_NHT.h.named_parameters():\n",
    "    if 'weight' in name:\n",
    "        with torch.no_grad():\n",
    "            print(torch.norm(param.data, p=2))"
   ]
  },
  {
   "cell_type": "code",
   "execution_count": null,
   "metadata": {},
   "outputs": [],
   "source": [
    "import matplotlib.pyplot as plt\n",
    "import numpy as np\n",
    "\n",
    "\n",
    "L_NHT = 1\n",
    "n_samples = 4000\n",
    "\n",
    "BATCH_SIZE = 1\n",
    "k = 2\n",
    "n = 6\n",
    "c_dim=17 \n",
    "\n",
    "input_shape = [BATCH_SIZE, c_dim]\n",
    "\n",
    "input_scale = 0.1\n",
    "\n",
    "input_diff_norms, output_diff_norms = empirical_Lipschitz_test(n_samples, input_shape, input_scale, new_NHT)   \n",
    "\n",
    "print(input_diff_norms[0])\n",
    "print(output_diff_norms[0])\n",
    "\n",
    "plt.scatter(input_diff_norms, output_diff_norms, s=5)\n",
    "plt.xlabel('delta')\n",
    "plt.ylabel('change in NHT out')\n",
    "\n",
    "x = np.linspace(0,input_scale*5,500)\n",
    "y = L_NHT*x\n",
    "\n",
    "plt.plot(x,y, color='r')\n",
    "plt.show()"
   ]
  }
 ],
 "metadata": {
  "kernelspec": {
   "display_name": "Python 3.7.13 ('spinningup')",
   "language": "python",
   "name": "python3"
  },
  "language_info": {
   "codemirror_mode": {
    "name": "ipython",
    "version": 3
   },
   "file_extension": ".py",
   "mimetype": "text/x-python",
   "name": "python",
   "nbconvert_exporter": "python",
   "pygments_lexer": "ipython3",
   "version": "3.7.13"
  },
  "orig_nbformat": 4,
  "vscode": {
   "interpreter": {
    "hash": "e0f7575a9f2a6dfdad54c1deae5f5356c11ea144700d0f505f6dd088d5d551c2"
   }
  }
 },
 "nbformat": 4,
 "nbformat_minor": 2
}
